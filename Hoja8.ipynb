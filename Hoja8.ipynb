{
 "cells": [
  {
   "cell_type": "code",
   "execution_count": 2,
   "metadata": {},
   "outputs": [
    {
     "name": "stdout",
     "output_type": "stream",
     "text": [
      "Requirement already satisfied: plotly in /Library/Frameworks/Python.framework/Versions/3.7/lib/python3.7/site-packages (4.14.3)\n",
      "Requirement already satisfied: retrying>=1.3.3 in /Library/Frameworks/Python.framework/Versions/3.7/lib/python3.7/site-packages (from plotly) (1.3.3)\n",
      "Requirement already satisfied: six in /Library/Frameworks/Python.framework/Versions/3.7/lib/python3.7/site-packages (from plotly) (1.11.0)\n",
      "Requirement already satisfied: numpy in /Library/Frameworks/Python.framework/Versions/3.7/lib/python3.7/site-packages (1.19.5)\n",
      "Requirement already satisfied: matplotlib in /Library/Frameworks/Python.framework/Versions/3.7/lib/python3.7/site-packages (3.4.1)\n",
      "Requirement already satisfied: python-dateutil>=2.7 in /Library/Frameworks/Python.framework/Versions/3.7/lib/python3.7/site-packages (from matplotlib) (2.7.3)\n",
      "Requirement already satisfied: pyparsing>=2.2.1 in /Library/Frameworks/Python.framework/Versions/3.7/lib/python3.7/site-packages (from matplotlib) (2.2.2)\n",
      "Requirement already satisfied: pillow>=6.2.0 in /Library/Frameworks/Python.framework/Versions/3.7/lib/python3.7/site-packages (from matplotlib) (8.2.0)\n",
      "Requirement already satisfied: numpy>=1.16 in /Library/Frameworks/Python.framework/Versions/3.7/lib/python3.7/site-packages (from matplotlib) (1.19.5)\n",
      "Requirement already satisfied: cycler>=0.10 in /Library/Frameworks/Python.framework/Versions/3.7/lib/python3.7/site-packages (from matplotlib) (0.10.0)\n",
      "Requirement already satisfied: kiwisolver>=1.0.1 in /Library/Frameworks/Python.framework/Versions/3.7/lib/python3.7/site-packages (from matplotlib) (1.0.1)\n",
      "Requirement already satisfied: six in /Library/Frameworks/Python.framework/Versions/3.7/lib/python3.7/site-packages (from cycler>=0.10->matplotlib) (1.11.0)\n",
      "Requirement already satisfied: setuptools in /Library/Frameworks/Python.framework/Versions/3.7/lib/python3.7/site-packages (from kiwisolver>=1.0.1->matplotlib) (39.0.1)\n",
      "Requirement already satisfied: statsmodels in /Library/Frameworks/Python.framework/Versions/3.7/lib/python3.7/site-packages (0.12.2)\n",
      "Requirement already satisfied: scipy>=1.1 in /Library/Frameworks/Python.framework/Versions/3.7/lib/python3.7/site-packages (from statsmodels) (1.6.2)\n",
      "Requirement already satisfied: numpy>=1.15 in /Library/Frameworks/Python.framework/Versions/3.7/lib/python3.7/site-packages (from statsmodels) (1.19.5)\n",
      "Requirement already satisfied: pandas>=0.21 in /Library/Frameworks/Python.framework/Versions/3.7/lib/python3.7/site-packages (from statsmodels) (1.1.5)\n",
      "Requirement already satisfied: patsy>=0.5 in /Library/Frameworks/Python.framework/Versions/3.7/lib/python3.7/site-packages (from statsmodels) (0.5.1)\n",
      "Requirement already satisfied: python-dateutil>=2.7.3 in /Library/Frameworks/Python.framework/Versions/3.7/lib/python3.7/site-packages (from pandas>=0.21->statsmodels) (2.7.3)\n",
      "Requirement already satisfied: pytz>=2017.2 in /Library/Frameworks/Python.framework/Versions/3.7/lib/python3.7/site-packages (from pandas>=0.21->statsmodels) (2019.3)\n",
      "Requirement already satisfied: six in /Library/Frameworks/Python.framework/Versions/3.7/lib/python3.7/site-packages (from patsy>=0.5->statsmodels) (1.11.0)\n",
      "Requirement already satisfied: pandas in /Library/Frameworks/Python.framework/Versions/3.7/lib/python3.7/site-packages (1.1.5)\n",
      "Requirement already satisfied: numpy>=1.15.4 in /Library/Frameworks/Python.framework/Versions/3.7/lib/python3.7/site-packages (from pandas) (1.19.5)\n",
      "Requirement already satisfied: pytz>=2017.2 in /Library/Frameworks/Python.framework/Versions/3.7/lib/python3.7/site-packages (from pandas) (2019.3)\n",
      "Requirement already satisfied: python-dateutil>=2.7.3 in /Library/Frameworks/Python.framework/Versions/3.7/lib/python3.7/site-packages (from pandas) (2.7.3)\n",
      "Requirement already satisfied: six>=1.5 in /Library/Frameworks/Python.framework/Versions/3.7/lib/python3.7/site-packages (from python-dateutil>=2.7.3->pandas) (1.11.0)\n",
      "Requirement already satisfied: sklearn in /Library/Frameworks/Python.framework/Versions/3.7/lib/python3.7/site-packages (0.0)\n",
      "Requirement already satisfied: scikit-learn in /Library/Frameworks/Python.framework/Versions/3.7/lib/python3.7/site-packages (from sklearn) (0.24.1)\n",
      "Requirement already satisfied: scipy>=0.19.1 in /Library/Frameworks/Python.framework/Versions/3.7/lib/python3.7/site-packages (from scikit-learn->sklearn) (1.6.2)\n",
      "Requirement already satisfied: numpy>=1.13.3 in /Library/Frameworks/Python.framework/Versions/3.7/lib/python3.7/site-packages (from scikit-learn->sklearn) (1.19.5)\n",
      "Requirement already satisfied: joblib>=0.11 in /Library/Frameworks/Python.framework/Versions/3.7/lib/python3.7/site-packages (from scikit-learn->sklearn) (1.0.1)\n",
      "Requirement already satisfied: threadpoolctl>=2.0.0 in /Library/Frameworks/Python.framework/Versions/3.7/lib/python3.7/site-packages (from scikit-learn->sklearn) (2.1.0)\n",
      "Requirement already satisfied: seaborn in /Library/Frameworks/Python.framework/Versions/3.7/lib/python3.7/site-packages (0.11.1)\n",
      "Requirement already satisfied: pandas>=0.23 in /Library/Frameworks/Python.framework/Versions/3.7/lib/python3.7/site-packages (from seaborn) (1.1.5)\n",
      "Requirement already satisfied: scipy>=1.0 in /Library/Frameworks/Python.framework/Versions/3.7/lib/python3.7/site-packages (from seaborn) (1.6.2)\n",
      "Requirement already satisfied: matplotlib>=2.2 in /Library/Frameworks/Python.framework/Versions/3.7/lib/python3.7/site-packages (from seaborn) (3.4.1)\n",
      "Requirement already satisfied: numpy>=1.15 in /Library/Frameworks/Python.framework/Versions/3.7/lib/python3.7/site-packages (from seaborn) (1.19.5)\n",
      "Requirement already satisfied: pillow>=6.2.0 in /Library/Frameworks/Python.framework/Versions/3.7/lib/python3.7/site-packages (from matplotlib>=2.2->seaborn) (8.2.0)\n",
      "Requirement already satisfied: python-dateutil>=2.7 in /Library/Frameworks/Python.framework/Versions/3.7/lib/python3.7/site-packages (from matplotlib>=2.2->seaborn) (2.7.3)\n",
      "Requirement already satisfied: kiwisolver>=1.0.1 in /Library/Frameworks/Python.framework/Versions/3.7/lib/python3.7/site-packages (from matplotlib>=2.2->seaborn) (1.0.1)\n",
      "Requirement already satisfied: pyparsing>=2.2.1 in /Library/Frameworks/Python.framework/Versions/3.7/lib/python3.7/site-packages (from matplotlib>=2.2->seaborn) (2.2.2)\n",
      "Requirement already satisfied: cycler>=0.10 in /Library/Frameworks/Python.framework/Versions/3.7/lib/python3.7/site-packages (from matplotlib>=2.2->seaborn) (0.10.0)\n",
      "Requirement already satisfied: six in /Library/Frameworks/Python.framework/Versions/3.7/lib/python3.7/site-packages (from cycler>=0.10->matplotlib>=2.2->seaborn) (1.11.0)\n",
      "Requirement already satisfied: setuptools in /Library/Frameworks/Python.framework/Versions/3.7/lib/python3.7/site-packages (from kiwisolver>=1.0.1->matplotlib>=2.2->seaborn) (39.0.1)\n",
      "Requirement already satisfied: pytz>=2017.2 in /Library/Frameworks/Python.framework/Versions/3.7/lib/python3.7/site-packages (from pandas>=0.23->seaborn) (2019.3)\n",
      "Requirement already satisfied: yellowbrick in /Library/Frameworks/Python.framework/Versions/3.7/lib/python3.7/site-packages (1.3.post1)\n",
      "Requirement already satisfied: numpy<1.20,>=1.16.0 in /Library/Frameworks/Python.framework/Versions/3.7/lib/python3.7/site-packages (from yellowbrick) (1.19.5)\n",
      "Requirement already satisfied: matplotlib!=3.0.0,>=2.0.2 in /Library/Frameworks/Python.framework/Versions/3.7/lib/python3.7/site-packages (from yellowbrick) (3.4.1)\n",
      "Requirement already satisfied: scikit-learn>=0.20 in /Library/Frameworks/Python.framework/Versions/3.7/lib/python3.7/site-packages (from yellowbrick) (0.24.1)\n",
      "Requirement already satisfied: scipy>=1.0.0 in /Library/Frameworks/Python.framework/Versions/3.7/lib/python3.7/site-packages (from yellowbrick) (1.6.2)\n",
      "Requirement already satisfied: cycler>=0.10.0 in /Library/Frameworks/Python.framework/Versions/3.7/lib/python3.7/site-packages (from yellowbrick) (0.10.0)\n",
      "Requirement already satisfied: six in /Library/Frameworks/Python.framework/Versions/3.7/lib/python3.7/site-packages (from cycler>=0.10.0->yellowbrick) (1.11.0)\n",
      "Requirement already satisfied: pyparsing>=2.2.1 in /Library/Frameworks/Python.framework/Versions/3.7/lib/python3.7/site-packages (from matplotlib!=3.0.0,>=2.0.2->yellowbrick) (2.2.2)\n",
      "Requirement already satisfied: kiwisolver>=1.0.1 in /Library/Frameworks/Python.framework/Versions/3.7/lib/python3.7/site-packages (from matplotlib!=3.0.0,>=2.0.2->yellowbrick) (1.0.1)\n",
      "Requirement already satisfied: python-dateutil>=2.7 in /Library/Frameworks/Python.framework/Versions/3.7/lib/python3.7/site-packages (from matplotlib!=3.0.0,>=2.0.2->yellowbrick) (2.7.3)\n",
      "Requirement already satisfied: pillow>=6.2.0 in /Library/Frameworks/Python.framework/Versions/3.7/lib/python3.7/site-packages (from matplotlib!=3.0.0,>=2.0.2->yellowbrick) (8.2.0)\n",
      "Requirement already satisfied: setuptools in /Library/Frameworks/Python.framework/Versions/3.7/lib/python3.7/site-packages (from kiwisolver>=1.0.1->matplotlib!=3.0.0,>=2.0.2->yellowbrick) (39.0.1)\n"
     ]
    },
    {
     "name": "stdout",
     "output_type": "stream",
     "text": [
      "Requirement already satisfied: threadpoolctl>=2.0.0 in /Library/Frameworks/Python.framework/Versions/3.7/lib/python3.7/site-packages (from scikit-learn>=0.20->yellowbrick) (2.1.0)\n",
      "Requirement already satisfied: joblib>=0.11 in /Library/Frameworks/Python.framework/Versions/3.7/lib/python3.7/site-packages (from scikit-learn>=0.20->yellowbrick) (1.0.1)\n",
      "Requirement already satisfied: scipy in /Library/Frameworks/Python.framework/Versions/3.7/lib/python3.7/site-packages (1.6.2)\n",
      "Requirement already satisfied: numpy<1.23.0,>=1.16.5 in /Library/Frameworks/Python.framework/Versions/3.7/lib/python3.7/site-packages (from scipy) (1.19.5)\n"
     ]
    }
   ],
   "source": [
    "!pip install plotly\n",
    "!pip install numpy\n",
    "!pip install matplotlib\n",
    "!pip install statsmodels\n",
    "!pip install pandas\n",
    "!pip install sklearn\n",
    "!pip install seaborn\n",
    "!pip install yellowbrick\n",
    "!pip install scipy"
   ]
  },
  {
   "cell_type": "code",
   "execution_count": 12,
   "metadata": {},
   "outputs": [],
   "source": [
    "%matplotlib inline\n",
    "from sklearn.metrics import plot_confusion_matrix, classification_report, confusion_matrix\n",
    "from sklearn.metrics import accuracy_score ,precision_score,recall_score,f1_score, make_scorer\n",
    "from sklearn.preprocessing import StandardScaler\n",
    "from sklearn.neural_network import MLPClassifier\n",
    "import random\n",
    "import matplotlib.pyplot as plt\n",
    "import numpy as np\n",
    "import csv\n",
    "import statsmodels.api as sm\n",
    "import statsmodels.stats.diagnostic as smd\n",
    "import pandas as pd\n",
    "from sklearn import svm\n",
    "from sklearn import datasets\n",
    "from sklearn.model_selection import train_test_split\n",
    "from sklearn.metrics import mean_squared_error,r2_score\n",
    "from sklearn.linear_model import Ridge\n",
    "import seaborn as sns\n",
    "import statsmodels.api as sm\n",
    "from statsmodels.graphics.gofplots import qqplot\n",
    "from yellowbrick.regressor import ResidualsPlot\n",
    "import scipy.stats as stats\n",
    "import statsmodels.stats.diagnostic as diag\n",
    "from scipy.stats import normaltest"
   ]
  },
  {
   "cell_type": "markdown",
   "metadata": {},
   "source": [
    "# Analisis exploratorio\n",
    "# ESTO FALTA \n",
    "Hay que hacer analisis exploratorio y ver correlacion\n"
   ]
  },
  {
   "cell_type": "code",
   "execution_count": 7,
   "metadata": {},
   "outputs": [
    {
     "data": {
      "text/plain": [
       "Index(['SalePrice', 'LotFrontage', 'GarageArea', 'GrLivArea', 'LotArea',\n",
       "       'YearRemodAdd', 'OverallQual'],\n",
       "      dtype='object')"
      ]
     },
     "execution_count": 7,
     "metadata": {},
     "output_type": "execute_result"
    }
   ],
   "source": [
    "#We get only relevant columns\n",
    "trainSetGiven = pd.read_csv(\"data/train.csv\")[[\"SalePrice\",\"LotFrontage\",\"GarageArea\",\"GrLivArea\",\"LotArea\",\"YearRemodAdd\", \"OverallQual\"]]\n",
    "trainSetGiven.columns"
   ]
  },
  {
   "cell_type": "code",
   "execution_count": 8,
   "metadata": {},
   "outputs": [
    {
     "data": {
      "text/html": [
       "<div>\n",
       "<style scoped>\n",
       "    .dataframe tbody tr th:only-of-type {\n",
       "        vertical-align: middle;\n",
       "    }\n",
       "\n",
       "    .dataframe tbody tr th {\n",
       "        vertical-align: top;\n",
       "    }\n",
       "\n",
       "    .dataframe thead th {\n",
       "        text-align: right;\n",
       "    }\n",
       "</style>\n",
       "<table border=\"1\" class=\"dataframe\">\n",
       "  <thead>\n",
       "    <tr style=\"text-align: right;\">\n",
       "      <th></th>\n",
       "      <th>SalePrice</th>\n",
       "      <th>LotFrontage</th>\n",
       "      <th>GarageArea</th>\n",
       "      <th>GrLivArea</th>\n",
       "      <th>LotArea</th>\n",
       "      <th>YearRemodAdd</th>\n",
       "      <th>OverallQual</th>\n",
       "    </tr>\n",
       "  </thead>\n",
       "  <tbody>\n",
       "    <tr>\n",
       "      <th>0</th>\n",
       "      <td>208500</td>\n",
       "      <td>65.0</td>\n",
       "      <td>548</td>\n",
       "      <td>1710</td>\n",
       "      <td>8450</td>\n",
       "      <td>2003</td>\n",
       "      <td>7</td>\n",
       "    </tr>\n",
       "    <tr>\n",
       "      <th>1</th>\n",
       "      <td>181500</td>\n",
       "      <td>80.0</td>\n",
       "      <td>460</td>\n",
       "      <td>1262</td>\n",
       "      <td>9600</td>\n",
       "      <td>1976</td>\n",
       "      <td>6</td>\n",
       "    </tr>\n",
       "    <tr>\n",
       "      <th>2</th>\n",
       "      <td>223500</td>\n",
       "      <td>68.0</td>\n",
       "      <td>608</td>\n",
       "      <td>1786</td>\n",
       "      <td>11250</td>\n",
       "      <td>2002</td>\n",
       "      <td>7</td>\n",
       "    </tr>\n",
       "    <tr>\n",
       "      <th>3</th>\n",
       "      <td>140000</td>\n",
       "      <td>60.0</td>\n",
       "      <td>642</td>\n",
       "      <td>1717</td>\n",
       "      <td>9550</td>\n",
       "      <td>1970</td>\n",
       "      <td>7</td>\n",
       "    </tr>\n",
       "    <tr>\n",
       "      <th>4</th>\n",
       "      <td>250000</td>\n",
       "      <td>84.0</td>\n",
       "      <td>836</td>\n",
       "      <td>2198</td>\n",
       "      <td>14260</td>\n",
       "      <td>2000</td>\n",
       "      <td>8</td>\n",
       "    </tr>\n",
       "    <tr>\n",
       "      <th>...</th>\n",
       "      <td>...</td>\n",
       "      <td>...</td>\n",
       "      <td>...</td>\n",
       "      <td>...</td>\n",
       "      <td>...</td>\n",
       "      <td>...</td>\n",
       "      <td>...</td>\n",
       "    </tr>\n",
       "    <tr>\n",
       "      <th>1455</th>\n",
       "      <td>175000</td>\n",
       "      <td>62.0</td>\n",
       "      <td>460</td>\n",
       "      <td>1647</td>\n",
       "      <td>7917</td>\n",
       "      <td>2000</td>\n",
       "      <td>6</td>\n",
       "    </tr>\n",
       "    <tr>\n",
       "      <th>1456</th>\n",
       "      <td>210000</td>\n",
       "      <td>85.0</td>\n",
       "      <td>500</td>\n",
       "      <td>2073</td>\n",
       "      <td>13175</td>\n",
       "      <td>1988</td>\n",
       "      <td>6</td>\n",
       "    </tr>\n",
       "    <tr>\n",
       "      <th>1457</th>\n",
       "      <td>266500</td>\n",
       "      <td>66.0</td>\n",
       "      <td>252</td>\n",
       "      <td>2340</td>\n",
       "      <td>9042</td>\n",
       "      <td>2006</td>\n",
       "      <td>7</td>\n",
       "    </tr>\n",
       "    <tr>\n",
       "      <th>1458</th>\n",
       "      <td>142125</td>\n",
       "      <td>68.0</td>\n",
       "      <td>240</td>\n",
       "      <td>1078</td>\n",
       "      <td>9717</td>\n",
       "      <td>1996</td>\n",
       "      <td>5</td>\n",
       "    </tr>\n",
       "    <tr>\n",
       "      <th>1459</th>\n",
       "      <td>147500</td>\n",
       "      <td>75.0</td>\n",
       "      <td>276</td>\n",
       "      <td>1256</td>\n",
       "      <td>9937</td>\n",
       "      <td>1965</td>\n",
       "      <td>5</td>\n",
       "    </tr>\n",
       "  </tbody>\n",
       "</table>\n",
       "<p>1201 rows × 7 columns</p>\n",
       "</div>"
      ],
      "text/plain": [
       "      SalePrice  LotFrontage  GarageArea  GrLivArea  LotArea  YearRemodAdd  \\\n",
       "0        208500         65.0         548       1710     8450          2003   \n",
       "1        181500         80.0         460       1262     9600          1976   \n",
       "2        223500         68.0         608       1786    11250          2002   \n",
       "3        140000         60.0         642       1717     9550          1970   \n",
       "4        250000         84.0         836       2198    14260          2000   \n",
       "...         ...          ...         ...        ...      ...           ...   \n",
       "1455     175000         62.0         460       1647     7917          2000   \n",
       "1456     210000         85.0         500       2073    13175          1988   \n",
       "1457     266500         66.0         252       2340     9042          2006   \n",
       "1458     142125         68.0         240       1078     9717          1996   \n",
       "1459     147500         75.0         276       1256     9937          1965   \n",
       "\n",
       "      OverallQual  \n",
       "0               7  \n",
       "1               6  \n",
       "2               7  \n",
       "3               7  \n",
       "4               8  \n",
       "...           ...  \n",
       "1455            6  \n",
       "1456            6  \n",
       "1457            7  \n",
       "1458            5  \n",
       "1459            5  \n",
       "\n",
       "[1201 rows x 7 columns]"
      ]
     },
     "execution_count": 8,
     "metadata": {},
     "output_type": "execute_result"
    }
   ],
   "source": [
    "#Get only numeric\n",
    "dataSetCompleteNumeric = trainSetGiven._get_numeric_data().dropna(how='any')\n",
    "lenP = len(dataSetCompleteNumeric['SalePrice'])\n",
    "\n",
    "dataSetCompleteNumeric"
   ]
  },
  {
   "cell_type": "markdown",
   "metadata": {},
   "source": [
    "# Pre procesamiento\n",
    "Decidimos separar las casas en subconjuntos para determinar su variable categórica que sera la que luego pasaremos a que nos funcione como un factor"
   ]
  },
  {
   "cell_type": "code",
   "execution_count": 9,
   "metadata": {},
   "outputs": [
    {
     "data": {
      "text/plain": [
       "3       medio\n",
       "5       medio\n",
       "8       medio\n",
       "9       medio\n",
       "10      medio\n",
       "        ...  \n",
       "1450    medio\n",
       "1452    medio\n",
       "1453    medio\n",
       "1458    medio\n",
       "1459    medio\n",
       "Name: category, Length: 494, dtype: object"
      ]
     },
     "execution_count": 9,
     "metadata": {},
     "output_type": "execute_result"
    }
   ],
   "source": [
    "# We sperate to get valid sets\n",
    "caros = dataSetCompleteNumeric[dataSetCompleteNumeric['SalePrice']>150000].copy()\n",
    "# caros['cat'] = 'Caro'\n",
    "caros['category'] = \"cara\"\n",
    "baratos = dataSetCompleteNumeric[dataSetCompleteNumeric['SalePrice']<80000].copy()\n",
    "baratos['category'] = \"barata\"\n",
    "medio = dataSetCompleteNumeric[dataSetCompleteNumeric['SalePrice'] > 80000].copy()\n",
    "medio = medio[medio['SalePrice'] < 150000]\n",
    "medio['category'] = \"medio\"\n",
    "medio[\"category\"]"
   ]
  },
  {
   "cell_type": "code",
   "execution_count": 10,
   "metadata": {},
   "outputs": [
    {
     "data": {
      "text/plain": [
       "array(['cara', 'barata', 'medio'], dtype=object)"
      ]
     },
     "execution_count": 10,
     "metadata": {},
     "output_type": "execute_result"
    }
   ],
   "source": [
    "#Proporciones caros\n",
    "trainCaro = caros.sample(frac=0.7)\n",
    "normalizeC = caros.drop(trainCaro.index)\n",
    "\n",
    "#Proporciones baratos\n",
    "trainBarato = baratos.sample(frac=0.7)\n",
    "normalizeB = baratos.drop(trainBarato.index)\n",
    "\n",
    "#Proporciones medio\n",
    "trainMedio = medio.sample(frac=0.7)\n",
    "normalizeM = medio.drop(trainMedio.index)\n",
    "\n",
    "# Proporcion 30, 70\n",
    "normalized  = normalizeC.append(normalizeB).append(normalizeM)\n",
    "\n",
    "#all data\n",
    "datos = normalized\n",
    "datosSalePrice = normalized.copy()\n",
    "# datosSalePrice.pop\n",
    "datos.pop(\"SalePrice\")\n",
    "y = datos.pop(\"category\")\n",
    "X = datos \n",
    "y.unique()"
   ]
  },
  {
   "cell_type": "markdown",
   "metadata": {},
   "source": [
    "Arriba lo que hicimos fue solo tomar el 30 de los datos de cada una de las diferentes categorias asi teniamos una muestra pareja para un mejor modelo."
   ]
  },
  {
   "cell_type": "code",
   "execution_count": 75,
   "metadata": {},
   "outputs": [],
   "source": [
    "#Plot config\n",
    "plt.rcParams['figure.figsize'] = (15, 9)\n",
    "plt.style.use('ggplot')\n"
   ]
  },
  {
   "cell_type": "markdown",
   "metadata": {},
   "source": [
    "# Primer Red neuronal Relu para vairable categorica\n",
    "Procederemos a crear nuestro set de testing y de training para el modelo"
   ]
  },
  {
   "cell_type": "code",
   "execution_count": 11,
   "metadata": {},
   "outputs": [],
   "source": [
    "#Set seeder for random\n",
    "random.seed(456)"
   ]
  },
  {
   "cell_type": "code",
   "execution_count": 15,
   "metadata": {},
   "outputs": [],
   "source": [
    "X_train, X_test,y_train, y_test = train_test_split(X, y,test_size=0.3,train_size=0.7)"
   ]
  },
  {
   "cell_type": "markdown",
   "metadata": {},
   "source": [
    "# Normalizaremos los datos"
   ]
  },
  {
   "cell_type": "code",
   "execution_count": 16,
   "metadata": {},
   "outputs": [],
   "source": [
    "scaler = StandardScaler()\n",
    "scaler.fit(X)\n",
    "X_train = scaler.transform(X_train)\n",
    "X_test = scaler.transform(X_test)"
   ]
  },
  {
   "cell_type": "markdown",
   "metadata": {},
   "source": [
    "# Entrenando el modelo\n",
    "- Hidden layer sizes = 11,7\n",
    "- Numero maximo de iteraciones 10k\n",
    "\n",
    "Lo que estamos haceindo es definir un modelo con 11 layers para nuestra red neuronal y 7 nodos cada uno una tupla en el iesimo elemento.\n",
    "Le definiremos un random state para que siempre nos de el mismo resultado con estas condiciones y este data set y como metodo de activacion usamos adam.\n",
    "Por ultimo definimos que maximo numero de iteraciones sera 10k.\n",
    "### Acerca de nuestro metodo de activacion\n",
    "`Relu`\n",
    "\n",
    "‘relu’, the rectified linear unit function, returns f(x) = max(0, x).<br>\n",
    "Podemos observar que tiene un comportamiento lineal y retorna nada mas el maximo que es x."
   ]
  },
  {
   "cell_type": "code",
   "execution_count": 17,
   "metadata": {
    "scrolled": false
   },
   "outputs": [
    {
     "name": "stdout",
     "output_type": "stream",
     "text": [
      "Se tomo  0.87 segundos en entrenar con un kernel linear\n"
     ]
    }
   ],
   "source": [
    "import time\n",
    "mlp1 = MLPClassifier(hidden_layer_sizes=(11,7), max_iter=10000, activation = 'relu',random_state=1)\n",
    "timestamp1 = time.time()\n",
    "mlp1.fit(X_train,y_train)\n",
    "timestamp2 = time.time()\n",
    "print(\"Se tomo  %.2f segundos en entrenar con un kernel linear\" % (timestamp2 - timestamp1))"
   ]
  },
  {
   "cell_type": "markdown",
   "metadata": {},
   "source": [
    "## Realizando predicciones"
   ]
  },
  {
   "cell_type": "code",
   "execution_count": 26,
   "metadata": {},
   "outputs": [
    {
     "name": "stdout",
     "output_type": "stream",
     "text": [
      "Se tomo  0.00 segundos en predecir\n",
      "Matriz de confusión para svm con kernel linear\n",
      " [[ 1  0  3]\n",
      " [ 0 51  6]\n",
      " [ 1 10 36]]\n",
      "Accuracy:  81.48148148148148 %\n",
      "Precision:  81.48148148148148 %\n",
      "Sensibilidad al true rating dentro de nuestra matriz:  81.48148148148148 %\n"
     ]
    },
    {
     "data": {
      "text/plain": [
       "array(['cara', 'cara', 'medio', 'cara', 'cara', 'cara', 'cara', 'cara',\n",
       "       'cara', 'cara', 'cara', 'cara', 'medio', 'medio', 'medio', 'medio',\n",
       "       'cara', 'medio', 'cara', 'medio', 'medio', 'medio', 'medio',\n",
       "       'cara', 'cara', 'cara', 'medio', 'cara', 'medio', 'medio', 'medio',\n",
       "       'medio', 'cara', 'cara', 'cara', 'medio', 'cara', 'medio', 'cara',\n",
       "       'medio', 'medio', 'cara', 'medio', 'cara', 'cara', 'cara', 'cara',\n",
       "       'cara', 'medio', 'medio', 'cara', 'cara', 'medio', 'cara', 'cara',\n",
       "       'cara', 'medio', 'medio', 'medio', 'cara', 'cara', 'cara', 'medio',\n",
       "       'cara', 'medio', 'cara', 'cara', 'medio', 'cara', 'barata', 'cara',\n",
       "       'cara', 'cara', 'cara', 'cara', 'medio', 'medio', 'medio', 'cara',\n",
       "       'cara', 'cara', 'cara', 'cara', 'cara', 'medio', 'cara', 'medio',\n",
       "       'cara', 'cara', 'medio', 'cara', 'medio', 'medio', 'medio',\n",
       "       'medio', 'cara', 'barata', 'cara', 'medio', 'cara', 'medio',\n",
       "       'medio', 'medio', 'cara', 'medio', 'cara', 'medio', 'cara'],\n",
       "      dtype='<U6')"
      ]
     },
     "execution_count": 26,
     "metadata": {},
     "output_type": "execute_result"
    }
   ],
   "source": [
    "timestamp1 = time.time()\n",
    "y_pred = mlp1.predict(X_test)\n",
    "timestamp2 = time.time()\n",
    "print(\"Se tomo  %.2f segundos en predecir\" % (timestamp2 - timestamp1))\n",
    "\n",
    "cm = confusion_matrix(y_test,y_pred)\n",
    "\n",
    "accuracy=accuracy_score(y_test,y_pred)\n",
    "precision =precision_score(y_test, y_pred,average='micro')\n",
    "recall =  recall_score(y_test, y_pred,average='micro')\n",
    "f1 = f1_score(y_test,y_pred,average='micro')\n",
    "print('Matriz de confusión para svm con kernel linear\\n',cm)\n",
    "print('Accuracy: ',accuracy * 100,\"%\")\n",
    "print('Precision: ',precision * 100,\"%\")\n",
    "print('Sensibilidad al true rating dentro de nuestra matriz: ',recall * 100 , \"%\")\n",
    "y_pred"
   ]
  },
  {
   "cell_type": "markdown",
   "metadata": {},
   "source": [
    "# Resultados de la primer red Neuronal\n",
    "Con este modelo tuvimos bastantes iteraciones como podemos ver 10k de iteraciones y el metodo de activacion fue `relu`\n",
    "tuvimos buenos resultados nuestro porcentaje de precision fue del 81.48% ahora bien nos interesara ver si esto cambia al cambiar de funcion e incrementar los layers, numero de nodos e iteraciones. y como esto afectara nuestro perfomance.\n",
    "Tambein observamos que fue un metodo eficiente no duro ni una centesima de segundo en predecir y en crear el modelo  tardo 1.43 segundos"
   ]
  },
  {
   "cell_type": "code",
   "execution_count": 29,
   "metadata": {},
   "outputs": [
    {
     "data": {
      "image/png": "[encoded data removed]",
      "text/plain": [
       "<Figure size 432x288 with 2 Axes>"
      ]
     },
     "metadata": {
      "needs_background": "light"
     },
     "output_type": "display_data"
    },
    {
     "data": {
      "image/png": "[encoded data removed]",
      "text/plain": [
       "<Figure size 432x288 with 2 Axes>"
      ]
     },
     "metadata": {
      "needs_background": "light"
     },
     "output_type": "display_data"
    }
   ],
   "source": [
    "titles_options = [(\"Confusion matrix, without normalization\", None),\n",
    "                  (\"Normalized confusion matrix\", 'true')]\n",
    "for title, normalize in titles_options:\n",
    "    disp = plot_confusion_matrix(mlp1, X_test, y_test,\n",
    "                                 cmap=plt.cm.Blues,\n",
    "                                 normalize=normalize)\n",
    "    disp.ax_.set_title(title)"
   ]
  },
  {
   "cell_type": "markdown",
   "metadata": {},
   "source": [
    "# Interpretacion de las matrices de confusion\n",
    "Viendo la matriz de confusion normalizada podemos ver que en cuanto a porcentajes la variable de respuesta que mejor logro calcular fue las casas caras con un 89% de actierto unicamente confundiendolas con las medias en un 11%.\n",
    "Seguido de esto vemos que las casas medias fueron las siguientes que mejor porcentaje de preisición tuvo con unn 77% esta si siendo confundida mas que todo con las casas caras en un 21% y en muy raras ocaciones fue confundida con las casas baratas en un 2% y por ultimo las casas baratas que fue la que peor le fue definitivamente nunca supo resolverlo con un 25% de acierto y siendo confundidas mas que todo con las casas medias pero que esto no nos alarme ya que viendo el otro heatmap de nuestra matriz de confusión podemos observar que la muestra fueron 4 casas baratas donde 3 se pensaron que eran medias erroneamente de hecho la mayor concentracion de nuestro data set de prediccion lo obsservamos en las casas caras que si fueron caras en las casas medias que si fueron medias y en las medias que se penso que eran caras."
   ]
  },
  {
   "cell_type": "markdown",
   "metadata": {},
   "source": [
    "# Segunda Red neuronal Tanh variable categorica\n",
    "Procederemos a crear nuestro set de testing y de training para el modelo"
   ]
  },
  {
   "cell_type": "markdown",
   "metadata": {},
   "source": [
    "# Entrenando el modelo\n",
    "- Hidden layer sizes = 18,15\n",
    "- Numero maximo de iteraciones 100k\n",
    "\n",
    "Lo que estamos haceindo es definir un modelo con 18 layers para nuestra red neuronal y 15 nodos cada uno una tupla en el iesimo elemento.\n",
    "\n",
    "Aca incrementemos tambien nuestro numero de iteraciones x10 y nuestro metodo de activacion sera La tangente hyperbolica de x \"tanh\"\n",
    "### Acerca de nuestro metodo de activacion\n",
    "`tanh`\n",
    "\n",
    "‘tanh’, the hyperbolic tan function, returns f(x) = tanh(x).\n",
    "Nos gusto este approach ya que es completamente distinta la funcion de activacion a la pasada pudo haber sido esta o logistic que no sigue un comportamiento lineal."
   ]
  },
  {
   "cell_type": "code",
   "execution_count": 32,
   "metadata": {},
   "outputs": [
    {
     "name": "stdout",
     "output_type": "stream",
     "text": [
      "Se tomo  1.42 segundos en entrenar con un kernel linear\n"
     ]
    }
   ],
   "source": [
    "mlp2 = MLPClassifier(hidden_layer_sizes=(18,15), max_iter=100000, activation = 'tanh',random_state=1)\n",
    "timestamp1 = time.time()\n",
    "mlp2.fit(X_train,y_train)\n",
    "timestamp2 = time.time()\n",
    "print(\"Se tomo  %.2f segundos en entrenar con un kernel linear\" % (timestamp2 - timestamp1))"
   ]
  },
  {
   "cell_type": "markdown",
   "metadata": {},
   "source": [
    "## Realizando predicciones"
   ]
  },
  {
   "cell_type": "code",
   "execution_count": 33,
   "metadata": {},
   "outputs": [
    {
     "name": "stdout",
     "output_type": "stream",
     "text": [
      "Se tomo  0.00 segundos en predecir\n",
      "Matriz de confusión para svm con kernel linear\n",
      " [[ 1  0  3]\n",
      " [ 0 49  8]\n",
      " [ 1  7 39]]\n",
      "Accuracy:  82.4074074074074 %\n",
      "Precision:  82.4074074074074 %\n",
      "Sensibilidad al true rating dentro de nuestra matriz:  82.4074074074074 %\n"
     ]
    },
    {
     "data": {
      "text/plain": [
       "array(['medio', 'cara', 'medio', 'cara', 'cara', 'cara', 'cara', 'cara',\n",
       "       'cara', 'cara', 'cara', 'cara', 'medio', 'medio', 'medio', 'medio',\n",
       "       'cara', 'medio', 'cara', 'medio', 'medio', 'medio', 'medio',\n",
       "       'cara', 'cara', 'cara', 'medio', 'cara', 'medio', 'medio', 'medio',\n",
       "       'medio', 'cara', 'medio', 'cara', 'medio', 'cara', 'cara', 'medio',\n",
       "       'medio', 'medio', 'cara', 'medio', 'cara', 'cara', 'cara', 'cara',\n",
       "       'cara', 'medio', 'medio', 'cara', 'cara', 'medio', 'cara', 'cara',\n",
       "       'cara', 'medio', 'medio', 'medio', 'cara', 'cara', 'cara', 'medio',\n",
       "       'cara', 'medio', 'cara', 'medio', 'medio', 'cara', 'barata',\n",
       "       'cara', 'cara', 'cara', 'cara', 'cara', 'medio', 'medio', 'medio',\n",
       "       'cara', 'cara', 'cara', 'medio', 'cara', 'cara', 'medio', 'cara',\n",
       "       'medio', 'cara', 'cara', 'medio', 'cara', 'medio', 'medio',\n",
       "       'medio', 'medio', 'cara', 'barata', 'cara', 'medio', 'cara',\n",
       "       'medio', 'medio', 'medio', 'cara', 'medio', 'cara', 'medio',\n",
       "       'medio'], dtype='<U6')"
      ]
     },
     "execution_count": 33,
     "metadata": {},
     "output_type": "execute_result"
    }
   ],
   "source": [
    "timestamp1 = time.time()\n",
    "y_pred = mlp2.predict(X_test)\n",
    "timestamp2 = time.time()\n",
    "print(\"Se tomo  %.2f segundos en predecir\" % (timestamp2 - timestamp1))\n",
    "\n",
    "cm = confusion_matrix(y_test,y_pred)\n",
    "\n",
    "accuracy=accuracy_score(y_test,y_pred)\n",
    "precision =precision_score(y_test, y_pred,average='micro')\n",
    "recall =  recall_score(y_test, y_pred,average='micro')\n",
    "f1 = f1_score(y_test,y_pred,average='micro')\n",
    "print('Matriz de confusión para svm con kernel linear\\n',cm)\n",
    "print('Accuracy: ',accuracy * 100,\"%\")\n",
    "print('Precision: ',precision * 100,\"%\")\n",
    "print('Sensibilidad al true rating dentro de nuestra matriz: ',recall * 100 , \"%\")\n",
    "y_pred"
   ]
  },
  {
   "cell_type": "markdown",
   "metadata": {},
   "source": [
    "# Resultados de la segunda red Neuronal\n",
    "Con este modelo ademas de tener una topografia diferente con mas layers y mas nodos notamos y 10x de veces mas iteraciones notamos que no tardo mas tiempo en producir nuestro modelo, es mas en teoria fue 0.01 segundos mas rapido lo cual es despreciable pero llama la atencion estos resultados.\n",
    "A diferencia de nuestro otro modelo podemos notar un incremento en un 1% de acierto lo cual tampoco es muy significativo y nos deja cuestionando si tuvieran la misma topografia si podrian rendir igual"
   ]
  },
  {
   "cell_type": "code",
   "execution_count": 35,
   "metadata": {},
   "outputs": [
    {
     "data": {
      "image/png": "[encoded data removed]",
      "text/plain": [
       "<Figure size 432x288 with 2 Axes>"
      ]
     },
     "metadata": {
      "needs_background": "light"
     },
     "output_type": "display_data"
    },
    {
     "data": {
      "image/png": "[encoded data removed]",
      "text/plain": [
       "<Figure size 432x288 with 2 Axes>"
      ]
     },
     "metadata": {
      "needs_background": "light"
     },
     "output_type": "display_data"
    }
   ],
   "source": [
    "titles_options = [(\"Confusion matrix, without normalization\", None),\n",
    "                  (\"Normalized confusion matrix\", 'true')]\n",
    "for title, normalize in titles_options:\n",
    "    disp = plot_confusion_matrix(mlp2, X_test, y_test,\n",
    "                                 cmap=plt.cm.Blues,\n",
    "                                 normalize=normalize)\n",
    "    disp.ax_.set_title(title)"
   ]
  },
  {
   "cell_type": "markdown",
   "metadata": {},
   "source": [
    "# Interpretacion de las matrices de confusion\n",
    "Lo primero que hablaremos y nos llama la atencion es que tuvo el mismo procentaje de error y con el el mismo tipo de casa cuando miramos las casas baratas esto lo vemos en nuestra matriz normalizada donde vemos que el 25% de las casas tuvo acierto y el 75% no y ese 75% fue con las casas medias.\n",
    "En cuanto a primer segundo y tercer lugar de casas mejor clasificadas se llevan el mismo podio \n",
    "1. Las casas caras\n",
    "2. Las casas medias\n",
    "3. Las casas baratas\n",
    "En lo que difiere este podio es que las casas medias tuvi un incremento relativamente fuerte en cuanto a su acierto de un 6% y las casas caras su aceierto bajo en un 3% dejando estas dos a un nivel de acierto mas parejo.\n",
    "\n",
    "De nuevo las casas medias mas que todo fueron confundidas con las caras y casi no con las baratas pareciera que nuestro modelo en ambos casos siempre piensa que una casa barata es media. Y las casas caras unicamente fueron confundidas con las medias.\n",
    "\n",
    "Estos resultados tan pobres en nuestro data set puede ser debido a la poca precencia de casas baratas en nuestro train set"
   ]
  },
  {
   "cell_type": "markdown",
   "metadata": {},
   "source": [
    "# Redes neuronales con Sale Price\n",
    "Aca usaremos la variable datosSalePrice"
   ]
  },
  {
   "cell_type": "code",
   "execution_count": 42,
   "metadata": {},
   "outputs": [],
   "source": [
    "y_sale_price = datosSalePrice.pop(\"SalePrice\")\n",
    "X_sale_price = datosSalePrice \n",
    "#Creamos de nuevo nuestro test y train set\n",
    "X_train, X_test,y_train, y_test = train_test_split(X, y,test_size=0.3,train_size=0.7)"
   ]
  },
  {
   "cell_type": "markdown",
   "metadata": {},
   "source": [
    "# Normalizacion de datos"
   ]
  },
  {
   "cell_type": "code",
   "execution_count": 43,
   "metadata": {},
   "outputs": [],
   "source": [
    "scaler = StandardScaler()\n",
    "scaler.fit(X)\n",
    "X_train = scaler.transform(X_train)\n",
    "X_test = scaler.transform(X_test)"
   ]
  },
  {
   "cell_type": "markdown",
   "metadata": {},
   "source": [
    "# Red neuronal numero 1 con funcion de activacion 'identity'\n",
    "https://scikit-learn.org/stable/modules/generated/sklearn.neural_network.MLPClassifier.html"
   ]
  },
  {
   "cell_type": "markdown",
   "metadata": {},
   "source": [
    "## Entrenaremos el modelo"
   ]
  },
  {
   "cell_type": "code",
   "execution_count": 18,
   "metadata": {},
   "outputs": [
    {
     "name": "stdout",
     "output_type": "stream",
     "text": [
      "Se tomo  0.27 segundos en entrenar con un kernel linear\n"
     ]
    }
   ],
   "source": [
    "mlp1 = MLPClassifier(hidden_layer_sizes=(11,7), max_iter=10000, activation = 'identity',random_state=1)\n",
    "timestamp1 = time.time()\n",
    "mlp1.fit(X_train,y_train)\n",
    "timestamp2 = time.time()\n",
    "print(\"Se tomo  %.2f segundos en entrenar con un kernel linear\" % (timestamp2 - timestamp1))"
   ]
  },
  {
   "cell_type": "markdown",
   "metadata": {},
   "source": [
    "## Realizando predicciones\n"
   ]
  },
  {
   "cell_type": "code",
   "execution_count": 19,
   "metadata": {},
   "outputs": [
    {
     "name": "stdout",
     "output_type": "stream",
     "text": [
      "Se tomo  0.00 segundos en predecir\n",
      "Matriz de confusión para svm con kernel linear\n",
      " [[ 0  0  2]\n",
      " [ 0 52  6]\n",
      " [ 0  5 43]]\n",
      "Accuracy:  87.96296296296296 %\n",
      "Precision:  87.96296296296296 %\n",
      "Sensibilidad al true rating dentro de nuestra matriz:  87.96296296296296 %\n"
     ]
    },
    {
     "data": {
      "text/plain": [
       "array(['cara', 'medio', 'medio', 'cara', 'cara', 'medio', 'cara', 'cara',\n",
       "       'medio', 'medio', 'medio', 'medio', 'medio', 'cara', 'cara',\n",
       "       'cara', 'cara', 'medio', 'medio', 'cara', 'medio', 'medio',\n",
       "       'medio', 'cara', 'medio', 'cara', 'cara', 'cara', 'medio', 'cara',\n",
       "       'medio', 'cara', 'cara', 'cara', 'cara', 'cara', 'medio', 'medio',\n",
       "       'cara', 'medio', 'medio', 'medio', 'medio', 'cara', 'cara',\n",
       "       'medio', 'medio', 'cara', 'medio', 'medio', 'cara', 'cara',\n",
       "       'medio', 'medio', 'cara', 'cara', 'medio', 'cara', 'medio',\n",
       "       'medio', 'medio', 'cara', 'medio', 'cara', 'medio', 'cara', 'cara',\n",
       "       'cara', 'cara', 'medio', 'medio', 'medio', 'cara', 'medio', 'cara',\n",
       "       'medio', 'cara', 'medio', 'cara', 'medio', 'cara', 'cara', 'cara',\n",
       "       'medio', 'cara', 'medio', 'cara', 'medio', 'cara', 'cara', 'cara',\n",
       "       'cara', 'medio', 'medio', 'cara', 'medio', 'cara', 'medio', 'cara',\n",
       "       'medio', 'cara', 'cara', 'cara', 'medio', 'medio', 'cara', 'cara',\n",
       "       'cara'], dtype='<U6')"
      ]
     },
     "execution_count": 19,
     "metadata": {},
     "output_type": "execute_result"
    }
   ],
   "source": [
    "timestamp1 = time.time()\n",
    "y_pred = mlp1.predict(X_test)\n",
    "timestamp2 = time.time()\n",
    "print(\"Se tomo  %.2f segundos en predecir\" % (timestamp2 - timestamp1))\n",
    "\n",
    "cm = confusion_matrix(y_test,y_pred)\n",
    "\n",
    "accuracy=accuracy_score(y_test,y_pred)\n",
    "precision =precision_score(y_test, y_pred,average='micro')\n",
    "recall =  recall_score(y_test, y_pred,average='micro')\n",
    "f1 = f1_score(y_test,y_pred,average='micro')\n",
    "print('Matriz de confusión para svm con kernel linear\\n',cm)\n",
    "print('Accuracy: ',accuracy * 100,\"%\")\n",
    "print('Precision: ',precision * 100,\"%\")\n",
    "print('Sensibilidad al true rating dentro de nuestra matriz: ',recall * 100 , \"%\")\n",
    "y_pred"
   ]
  },
  {
   "cell_type": "code",
   "execution_count": 23,
   "metadata": {},
   "outputs": [
    {
     "data": {
      "image/png": "[encoded data removed]",
      "text/plain": [
       "<Figure size 432x288 with 2 Axes>"
      ]
     },
     "metadata": {
      "needs_background": "light"
     },
     "output_type": "display_data"
    },
    {
     "data": {
      "image/png": "[encoded data removed]",
      "text/plain": [
       "<Figure size 432x288 with 2 Axes>"
      ]
     },
     "metadata": {
      "needs_background": "light"
     },
     "output_type": "display_data"
    }
   ],
   "source": [
    "#Aca va lo de la confussion matrix calcularla y el accuracy, precision recall score\n",
    "#Aca va lo de la confussion matrix calcularla y el accuracy, precision recall score\n",
    "titles_options = [(\"Confusion matrix, without normalization\", None),\n",
    "                  (\"Normalized confusion matrix\", 'true')]\n",
    "for title, normalize in titles_options:\n",
    "    disp = plot_confusion_matrix(mlp1, X_test, y_test,\n",
    "                                 cmap=plt.cm.Blues,\n",
    "                                 normalize=normalize)\n",
    "    disp.ax_.set_title(title)"
   ]
  },
  {
   "cell_type": "markdown",
   "metadata": {},
   "source": [
    "# Resultados Sale Price con 'identity'\n",
    "ACA HABLAREMOS DE LOS RESULTADOS"
   ]
  },
  {
   "cell_type": "markdown",
   "metadata": {},
   "source": [
    "# Interpretacion de las matrices de confusion"
   ]
  },
  {
   "cell_type": "markdown",
   "metadata": {},
   "source": [
    "# Red neuronal numero 2 con funcion de activacion 'logistic'\n",
    "https://scikit-learn.org/stable/modules/generated/sklearn.neural_network.MLPClassifier.html"
   ]
  },
  {
   "cell_type": "markdown",
   "metadata": {},
   "source": [
    "## Entrenaremos el modelo"
   ]
  },
  {
   "cell_type": "code",
   "execution_count": 24,
   "metadata": {},
   "outputs": [
    {
     "name": "stdout",
     "output_type": "stream",
     "text": [
      "Se tomo  0.51 segundos en entrenar con un kernel linear\n"
     ]
    }
   ],
   "source": [
    "mlp1 = MLPClassifier(hidden_layer_sizes=(11,7), max_iter=10000, activation = 'logistic',random_state=1)\n",
    "timestamp1 = time.time()\n",
    "mlp1.fit(X_train,y_train)\n",
    "timestamp2 = time.time()\n",
    "print(\"Se tomo  %.2f segundos en entrenar con un kernel linear\" % (timestamp2 - timestamp1))"
   ]
  },
  {
   "cell_type": "markdown",
   "metadata": {},
   "source": [
    "## Realizando predicciones"
   ]
  },
  {
   "cell_type": "code",
   "execution_count": 26,
   "metadata": {},
   "outputs": [
    {
     "name": "stdout",
     "output_type": "stream",
     "text": [
      "Se tomo  0.00 segundos en predecir\n",
      "Matriz de confusión para svm con kernel linear\n",
      " [[ 0  0  2]\n",
      " [ 0 53  5]\n",
      " [ 0  5 43]]\n",
      "Accuracy:  88.88888888888889 %\n",
      "Precision:  88.88888888888889 %\n",
      "Sensibilidad al true rating dentro de nuestra matriz:  88.88888888888889 %\n"
     ]
    },
    {
     "data": {
      "text/plain": [
       "array(['cara', 'medio', 'medio', 'cara', 'cara', 'medio', 'cara', 'cara',\n",
       "       'medio', 'medio', 'medio', 'medio', 'medio', 'cara', 'cara',\n",
       "       'cara', 'cara', 'medio', 'medio', 'cara', 'medio', 'medio',\n",
       "       'medio', 'cara', 'medio', 'cara', 'cara', 'cara', 'cara', 'cara',\n",
       "       'medio', 'cara', 'cara', 'cara', 'cara', 'cara', 'medio', 'medio',\n",
       "       'cara', 'medio', 'medio', 'medio', 'medio', 'cara', 'cara',\n",
       "       'medio', 'medio', 'cara', 'medio', 'medio', 'cara', 'cara',\n",
       "       'medio', 'medio', 'cara', 'cara', 'medio', 'cara', 'medio',\n",
       "       'medio', 'medio', 'cara', 'medio', 'cara', 'medio', 'cara', 'cara',\n",
       "       'cara', 'cara', 'medio', 'medio', 'medio', 'cara', 'medio', 'cara',\n",
       "       'medio', 'cara', 'medio', 'cara', 'medio', 'cara', 'cara', 'cara',\n",
       "       'medio', 'cara', 'medio', 'cara', 'medio', 'cara', 'cara', 'cara',\n",
       "       'cara', 'medio', 'medio', 'cara', 'medio', 'cara', 'medio', 'cara',\n",
       "       'medio', 'cara', 'cara', 'cara', 'medio', 'medio', 'cara', 'cara',\n",
       "       'cara'], dtype='<U6')"
      ]
     },
     "execution_count": 26,
     "metadata": {},
     "output_type": "execute_result"
    }
   ],
   "source": [
    "timestamp1 = time.time()\n",
    "y_pred = mlp1.predict(X_test)\n",
    "timestamp2 = time.time()\n",
    "print(\"Se tomo  %.2f segundos en predecir\" % (timestamp2 - timestamp1))\n",
    "\n",
    "cm = confusion_matrix(y_test,y_pred)\n",
    "\n",
    "accuracy=accuracy_score(y_test,y_pred)\n",
    "precision =precision_score(y_test, y_pred,average='micro')\n",
    "recall =  recall_score(y_test, y_pred,average='micro')\n",
    "f1 = f1_score(y_test,y_pred,average='micro')\n",
    "print('Matriz de confusión para svm con kernel linear\\n',cm)\n",
    "print('Accuracy: ',accuracy * 100,\"%\")\n",
    "print('Precision: ',precision * 100,\"%\")\n",
    "print('Sensibilidad al true rating dentro de nuestra matriz: ',recall * 100 , \"%\")\n",
    "y_pred"
   ]
  },
  {
   "cell_type": "code",
   "execution_count": 27,
   "metadata": {},
   "outputs": [
    {
     "data": {
      "image/png": "[encoded data removed]",
      "text/plain": [
       "<Figure size 432x288 with 2 Axes>"
      ]
     },
     "metadata": {
      "needs_background": "light"
     },
     "output_type": "display_data"
    },
    {
     "data": {
      "image/png": "[encoded data removed]",
      "text/plain": [
       "<Figure size 432x288 with 2 Axes>"
      ]
     },
     "metadata": {
      "needs_background": "light"
     },
     "output_type": "display_data"
    }
   ],
   "source": [
    "#Aca va lo de la confussion matrix calcularla y el accuracy, precision recall score\n",
    "titles_options = [(\"Confusion matrix, without normalization\", None),\n",
    "                  (\"Normalized confusion matrix\", 'true')]\n",
    "for title, normalize in titles_options:\n",
    "    disp = plot_confusion_matrix(mlp1, X_test, y_test,\n",
    "                                 cmap=plt.cm.Blues,\n",
    "                                 normalize=normalize)\n",
    "    disp.ax_.set_title(title)"
   ]
  },
  {
   "cell_type": "markdown",
   "metadata": {},
   "source": [
    "## Resultados Sale Price con 'logistic'\n",
    "ACA HABLAREMOS DE LOS RESULTADOS"
   ]
  },
  
  {
   "cell_type": "markdown",
   "metadata": {},
   "source": [
    "# Resumen\n",
    "TODO"
   ]
  },
  {
   "cell_type": "markdown",
   "metadata": {},
   "source": [
    "# ¿Cuál es mejor para predecir?\n",
    "TODO\n",
    "# Cual se tardo mas?\n",
    "TODO\n"
   ]
  },
  {
   "cell_type": "code",
   "execution_count": null,
   "metadata": {},
   "outputs": [],
   "source": []
  }
 ],
 "metadata": {
  "kernelspec": {
   "display_name": "Python 3",
   "language": "python",
   "name": "python3"
  },
  "language_info": {
   "codemirror_mode": {
    "name": "ipython",
    "version": 3
   },
   "file_extension": ".py",
   "mimetype": "text/x-python",
   "name": "python",
   "nbconvert_exporter": "python",
   "pygments_lexer": "ipython3",
   "version": "3.8.5"
  }
 },
 "nbformat": 4,
 "nbformat_minor": 2
}
